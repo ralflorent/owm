{
 "cells": [
  {
   "cell_type": "markdown",
   "metadata": {},
   "source": [
    "# MEGI001-2101033 Introduction to Earth System Data\n",
    "\n",
    "## Task 2.2 - Data Portals Inspection\n",
    "\n",
    "Created on: Jan 22, 2019 by Ralph Florent <r.florent@jacobs-university.de>"
   ]
  },
  {
   "cell_type": "markdown",
   "metadata": {},
   "source": [
    "## T2.2\n",
    "\n",
    "Please list the advantages and disadvantages of each web interface you encountered. A bullet list is appropriate.\n",
    "\n",
    "\n",
    "### Pros & Cons of [NASA Giovanni](https://giovanni.gsfc.nasa.gov/giovanni/)\n",
    "\n",
    "Pros\n",
    "* Free (no pricing)\n",
    "* Well classified / categorized\n",
    "* Easy access to data related to science \n",
    "\n",
    "Cons\n",
    "* Not the best user interface / user experience (UI/UX)\n",
    "* Limited user support due to lo lapse in Federal Funding\n",
    "* Relatively small amount of data available (for some specific filters)\n",
    "* Map navigation is not intuitive\n",
    "\n",
    "### Pros & Cons of [EO Data Service](eodataservice.org)\n",
    "\n",
    "Pros\n",
    "* Authenticated account (have a profile for future work)\n",
    "* Sort of attractive UI/UX (web-based graphic)\n",
    "* Cover Jupyter notebooks (facilitate scripting)\n",
    "* Open API service (RESTful interfaces)\n",
    "\n",
    "Cons\n",
    "* Account creation takes forever (a relatively long time. without it login access is denied)\n",
    "* Authentication successful for non-verified user to Jupyter Hub.\n",
    "\n",
    "\n",
    "### Pros & Cons of [NASA EarthData OpenSearch](https://cmr.earthdata.nasa.gov/opensearch/collections)\n",
    "\n",
    "Pros\n",
    "* Provides Tour (for first-time use)\n",
    "* Easy to use (search map, access data)\n",
    "\n",
    "Cons\n",
    "* Requires authentication for earth data access though\n",
    "\n",
    "### Pros & Cons of [EU environmental agency data](https://www.eea.europa.eu/data-and-maps/data#c0=5&c11=&c5=all&b_start=0)\n",
    "\n",
    "Pros\n",
    "* Good graphic design\n",
    "* Well structured in terms of contents (data and maps)\n",
    "* Easy to use, stable.\n",
    "\n",
    "Cons\n",
    "* Downloadable data about Europe's environment (only specific to Europe)."
   ]
  },
  {
   "cell_type": "code",
   "execution_count": null,
   "metadata": {},
   "outputs": [],
   "source": []
  }
 ],
 "metadata": {
  "kernelspec": {
   "display_name": "Python 3",
   "language": "python",
   "name": "python3"
  },
  "language_info": {
   "codemirror_mode": {
    "name": "ipython",
    "version": 3
   },
   "file_extension": ".py",
   "mimetype": "text/x-python",
   "name": "python",
   "nbconvert_exporter": "python",
   "pygments_lexer": "ipython3",
   "version": "3.6.5"
  },
  "toc": {
   "nav_menu": {},
   "number_sections": true,
   "sideBar": true,
   "skip_h1_title": false,
   "toc_cell": false,
   "toc_position": {
    "height": "533px",
    "left": "0px",
    "right": "1068px",
    "top": "111px",
    "width": "212px"
   },
   "toc_section_display": "block",
   "toc_window_display": true
  },
  "varInspector": {
   "cols": {
    "lenName": 16,
    "lenType": 16,
    "lenVar": 40
   },
   "kernels_config": {
    "python": {
     "delete_cmd_postfix": "",
     "delete_cmd_prefix": "del ",
     "library": "var_list.py",
     "varRefreshCmd": "print(var_dic_list())"
    },
    "r": {
     "delete_cmd_postfix": ") ",
     "delete_cmd_prefix": "rm(",
     "library": "var_list.r",
     "varRefreshCmd": "cat(var_dic_list()) "
    }
   },
   "types_to_exclude": [
    "module",
    "function",
    "builtin_function_or_method",
    "instance",
    "_Feature"
   ],
   "window_display": false
  }
 },
 "nbformat": 4,
 "nbformat_minor": 2
}
