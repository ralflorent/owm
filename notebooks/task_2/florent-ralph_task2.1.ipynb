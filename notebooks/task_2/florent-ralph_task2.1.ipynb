{
 "cells": [
  {
   "cell_type": "markdown",
   "metadata": {},
   "source": [
    "# MEGI001-2101033 Introduction to Earth System Data\n",
    "\n",
    "## Task 2.1 - Data Portals Inspection\n",
    "\n",
    "Created on: Jan 22, 2019 by Ralph Florent <r.florent@jacobs-university.de>"
   ]
  },
  {
   "cell_type": "markdown",
   "metadata": {},
   "source": [
    "## T2.1\n",
    "\n",
    "Please inspect some web services listed in the `resource.md` file. Document with screenshot and short description (1 sentence) of how the interface looks like. Please document your impression on the ease of use.\n",
    "\n",
    "\n",
    "### Web services\n",
    "\n",
    "Data access can be povided via services that are either used via web interface. Some of them are:\n",
    "\n",
    "* NASA Giovanni - https://giovanni.gsfc.nasa.gov/giovanni/\n",
    "* EO Data Service - eodataservice.org\n",
    "* [NASA ocean motion viewer](http://oceanmotion.org/html/resources/oscar.htm)\n",
    "* [UNAVCO GPS velocity viewer](https://www.unavco.org/software/visualization/GPS-Velocity-Viewer/GPS-Velocity-Viewer.html)\n",
    "* [NOAA Climate Indices: Monthly Atmospheric and Ocean Time Series](https://www.esrl.noaa.gov/psd/data/climateindices/)\n",
    "* [ESA global current portal](https://globcurrent.oceandatalab.com/?date=735652800000&timespan=3m%3B6m&products=3857_GlobCurrent_L4_geostrophic_streamline%2C3857_GlobCurrent_L4_geostrophic_nrt_vectorfield%2C3857_GlobCurrent_drogue_15m%2C3857_ODYSSEA_SAF_SST%2C3857_ODYSSEA_MED_SST%2C3857_ODYSSEA_NWE_SST%2C3857_ODYSSEA_SST&extent=-2951577.706399%2C6082935.2252079%2C179282.971726%2C7658149.5038895&opacity=100%2C100%2C100%2C100%2C100%2C100%2C100&stackLevel=120%2C120.01%2C140%2C50%2C50.01%2C50.02%2C10)\n",
    "* [Copernicus Global Flood Awareness System](http://globalfloods.jrc.ec.europa.eu/)\n",
    "* [USGS Spectral Library viewer](https://crustal.usgs.gov/speclab/QueryAll07a.php)\n",
    "* [CU Grace data portal](http://geoid.colorado.edu/grace/dataportal.html)"
   ]
  },
  {
   "cell_type": "markdown",
   "metadata": {},
   "source": [
    "### NASA Giovanni\n",
    "\n",
    "The image below shows how to filter/search the data that needs to be accessed. In our case, we search using these criteria:\n",
    "* Surface Temperature (Nighttime/Descending)\n",
    "* From 2015-07-31 to 2016-09-22\n",
    "* Country: Haiti\n",
    "* Displine: Atmospheric Dynamics\n",
    "\n",
    "<img src=\"../assets/img/giovanni-nasa.1@task2.1.png\" width=900 align=\"center\">\n",
    "\n",
    "The results of the filtering allows the plotting of the selected dataset. See image below.\n",
    "\n",
    "<img src=\"../assets/img/giovanni-nasa.2@task2.1.png\" width=900 align=\"center\">\n",
    "\n",
    "NOTE: This Data as a Service (DaaS) web service lacks of user support due to lapse in Federal funding. The user interface is not attractive at all, but it contains a lot of options in terms of searching and filtering."
   ]
  },
  {
   "cell_type": "markdown",
   "metadata": {},
   "source": [
    "### EO Data Service\n",
    "\n",
    "The content of the UI consists of a landing page listing the following options: Concept, Applications, Get the Data, Access the Service|Jupyter \n",
    "\n",
    "<img src=\"../assets/img/eo-data-svc.1@task2.1.png\" width=900 align=\"center\">\n",
    "\n",
    "Access to Jupyter Hub as authenticated user (rflorent)\n",
    "\n",
    "<img src=\"../assets/img/eo-data-svc.3@task2.1.png\" width=900 align=\"center\">\n"
   ]
  },
  {
   "cell_type": "markdown",
   "metadata": {},
   "source": [
    "### NASA EarthData OpenSearch\n",
    "\n",
    "The content of the UI guides new user on a tour to facilate nagivation and use of the toolbar.\n",
    "\n",
    "<img src=\"../assets/img/nasa-ed-os.1@task2.1.png\" width=900 align=\"center\">\n",
    "\n",
    "Preview of Map of Haiti using the following search:\n",
    "* Country: Haiti\n",
    "* DISC: AIRS/Aqua L1B Infrared (IR) geolocated and calibrated radiances V005 (AIRIBRAD) at GES DISC\n",
    "* Temporal Extent: 2002-08-30 ongoing\n",
    "* GIBS Imagery Projection Availability: Geographic\n",
    "\n",
    "See picture below.\n",
    "\n",
    "<img src=\"../assets/img/nasa-ed-os.2@task2.1.png\" width=900 align=\"center\">\n"
   ]
  },
  {
   "cell_type": "markdown",
   "metadata": {},
   "source": [
    "### EU environmental agency data\n",
    "\n",
    "Accessing the data is quite easy. Once the map selected, we only need to locate the `Download data` section (usually right after the map), then choose the desired file format. Example of file formats are:\n",
    "* HTML\n",
    "* CSV\n",
    "* TSV\n",
    "* JSON (with/without exhibit)\n",
    "* XML (with/without schema)\n",
    "\n",
    "<img src=\"../assets/img/eu-env-ad.2@task2.1.png\" width=900 align=\"center\">\n"
   ]
  }
 ],
 "metadata": {
  "kernelspec": {
   "display_name": "Python 3",
   "language": "python",
   "name": "python3"
  },
  "language_info": {
   "codemirror_mode": {
    "name": "ipython",
    "version": 3
   },
   "file_extension": ".py",
   "mimetype": "text/x-python",
   "name": "python",
   "nbconvert_exporter": "python",
   "pygments_lexer": "ipython3",
   "version": "3.6.5"
  },
  "toc": {
   "nav_menu": {},
   "number_sections": true,
   "sideBar": true,
   "skip_h1_title": false,
   "toc_cell": false,
   "toc_position": {
    "height": "533px",
    "left": "0px",
    "right": "1068px",
    "top": "111px",
    "width": "212px"
   },
   "toc_section_display": "block",
   "toc_window_display": true
  },
  "varInspector": {
   "cols": {
    "lenName": 16,
    "lenType": 16,
    "lenVar": 40
   },
   "kernels_config": {
    "python": {
     "delete_cmd_postfix": "",
     "delete_cmd_prefix": "del ",
     "library": "var_list.py",
     "varRefreshCmd": "print(var_dic_list())"
    },
    "r": {
     "delete_cmd_postfix": ") ",
     "delete_cmd_prefix": "rm(",
     "library": "var_list.r",
     "varRefreshCmd": "cat(var_dic_list()) "
    }
   },
   "types_to_exclude": [
    "module",
    "function",
    "builtin_function_or_method",
    "instance",
    "_Feature"
   ],
   "window_display": false
  }
 },
 "nbformat": 4,
 "nbformat_minor": 2
}
