{
 "cells": [
  {
   "cell_type": "markdown",
   "metadata": {},
   "source": [
    "# MEGI001-2101033 Introduction to Earth System Data\n",
    "\n",
    "## Task 2.3 - Data Tools\n",
    "\n",
    "Created on: Jan 22, 2019 by Ralph Florent <r.florent@jacobs-university.de>"
   ]
  },
  {
   "cell_type": "markdown",
   "metadata": {},
   "source": [
    "## T2.3\n",
    "\n",
    "Please download and install any two of the GUI tools (e.g. for opening HDF or netCDF) listed above and in the resources. Please open any data product, document with screenshots and describe eventual difficulties."
   ]
  },
  {
   "cell_type": "markdown",
   "metadata": {},
   "source": [
    "#### Chosen tools:\n",
    "* [Panoply](https://www.giss.nasa.gov/tools/panoply/download/)\n",
    "* [IDV (Integrated Data Viewer)](https://www.unidata.ucar.edu/software/netcdf/software.html#IDV)\n",
    "\n",
    "#### Fetching the data\n",
    "We locate the HDF data in [Earth Data](https://lpdaac.usgs.gov/dataset_discovery/modis/modis_products_table/mod13q1_v006#tools)\n",
    "**NOTE**: *To download contents from Earth Data, user must registered and authenticated.* \n",
    "\n",
    "Then we go to the specific desired content using this [link](https://modis.gsfc.nasa.gov/data/dataprod/mod13.php)\n",
    "\n",
    "Description of the downloaded data: MOD13Q1: MODIS/Terra Vegetation Indices 16-Day L3 Global 250 m SIN Grid V006\n",
    "\n",
    "#### Using Panoply\n",
    "\n",
    "1. After downloading the windows version of Panoply, we run installation (.exe file). \n",
    "NOTE: Installation requires Java SRE 8\n",
    "\n",
    "2. Then we import the data as an HDF file and preview it as-is in the picture below.\n",
    "\n",
    "<img src=\"../assets/img/example-hdf-data@task2.3.png\" width=900 align=\"center\">\n",
    "\n",
    "#### Using IDV\n",
    "\n",
    "1. After downloading and running the windows installer, we launch the application. It's Java application (for Java 1.4 or later) that can be used to display a variety of netCDF files, particularly well formatted, geolocated datasets.\n",
    "\n",
    "2. Then, we create a new project and add the HDF file so that we can preview its content. It should be noted that this desktop app is provides useful features that go beyond the purpose of the exercise. So we only display in the picture below the interface and the loaded HDF file.\n",
    "\n",
    "<img src=\"../assets/img/example-hdf-data.1@task2.3.png\" width=900 align=\"center\">\n",
    "\n",
    "<img src=\"../assets/img/example-hdf-data.2@task2.3.png\" width=900 align=\"center\">"
   ]
  }
 ],
 "metadata": {
  "kernelspec": {
   "display_name": "Python 3",
   "language": "python",
   "name": "python3"
  },
  "language_info": {
   "codemirror_mode": {
    "name": "ipython",
    "version": 3
   },
   "file_extension": ".py",
   "mimetype": "text/x-python",
   "name": "python",
   "nbconvert_exporter": "python",
   "pygments_lexer": "ipython3",
   "version": "3.6.5"
  },
  "toc": {
   "nav_menu": {},
   "number_sections": true,
   "sideBar": true,
   "skip_h1_title": false,
   "toc_cell": false,
   "toc_position": {
    "height": "533px",
    "left": "0px",
    "right": "1068px",
    "top": "111px",
    "width": "212px"
   },
   "toc_section_display": "block",
   "toc_window_display": true
  },
  "varInspector": {
   "cols": {
    "lenName": 16,
    "lenType": 16,
    "lenVar": 40
   },
   "kernels_config": {
    "python": {
     "delete_cmd_postfix": "",
     "delete_cmd_prefix": "del ",
     "library": "var_list.py",
     "varRefreshCmd": "print(var_dic_list())"
    },
    "r": {
     "delete_cmd_postfix": ") ",
     "delete_cmd_prefix": "rm(",
     "library": "var_list.r",
     "varRefreshCmd": "cat(var_dic_list()) "
    }
   },
   "types_to_exclude": [
    "module",
    "function",
    "builtin_function_or_method",
    "instance",
    "_Feature"
   ],
   "window_display": false
  }
 },
 "nbformat": 4,
 "nbformat_minor": 2
}
