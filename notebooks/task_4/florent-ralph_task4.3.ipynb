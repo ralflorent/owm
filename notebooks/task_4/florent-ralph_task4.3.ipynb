{
 "cells": [
  {
   "cell_type": "markdown",
   "metadata": {},
   "source": [
    "# MEGI001-2101033 Introduction to Earth System Data\n",
    "\n",
    "## Task 4.3 - Loading Data\n",
    "\n",
    "Created on: Jan 22, 2019 by Ralph Florent <r.florent@jacobs-university.de>"
   ]
  },
  {
   "cell_type": "markdown",
   "metadata": {},
   "source": [
    "## Task 4.3\n",
    "\n",
    "Please open provided sample data files with Panoply and document with screenshots"
   ]
  },
  {
   "cell_type": "markdown",
   "metadata": {},
   "source": [
    "#### HDF File \n",
    "Since we have used the downloaded file used in [section 2.3](../task_2/florent-ralph_task2.3.ipynb), this time we want to experiment with the file provided by Professor A. Rossi.\n",
    "\n",
    "\n",
    "Using USB drive:\n",
    "* Link: (copy from Professor A. Rossi's Drive)\n",
    "* Path: [usb]/data_samples/hdf/\n",
    "* filename: NEONDSTowerTemperatureData.hdf5\n",
    "\n",
    "Current file location: ../assets/data/hdf/data-file@task4.3.hdf5\n",
    "\n",
    "**NOTE**: *The subdirectory `hdf` (parent of the current file location) contains more than files. It also has the metadata of the file and other relevant information about the file.*"
   ]
  },
  {
   "cell_type": "markdown",
   "metadata": {},
   "source": [
    "Panoply - Preview 1\n",
    "\n",
    "<img src=\"../assets/img/panoply-sample-view@task4.3.png\" width=900 align=\"center\">"
   ]
  },
  {
   "cell_type": "markdown",
   "metadata": {},
   "source": [
    "Panoply - Preview 2\n",
    "\n",
    "<img src=\"../assets/img/panoply-sample-view.1@task4.3.png\" width=900 align=\"center\">"
   ]
  },
  {
   "cell_type": "markdown",
   "metadata": {},
   "source": [
    "Panoply - Preview 3\n",
    "\n",
    "<img src=\"../assets/img/panoply-sample-view.2@task4.3.png\" width=900 align=\"center\">"
   ]
  },
  {
   "cell_type": "markdown",
   "metadata": {},
   "source": [
    "#### Comments\n",
    "\n",
    "We preview three (3) different screenshot samples of the hdf data file. Note that from the data is divided nested groups. The lowest level \"group\" of the nested group is the class variable with a particular structure. This structure provides information about the class like the data type and names of the attributes being part of such class."
   ]
  }
 ],
 "metadata": {
  "kernelspec": {
   "display_name": "Python 3",
   "language": "python",
   "name": "python3"
  },
  "language_info": {
   "codemirror_mode": {
    "name": "ipython",
    "version": 3
   },
   "file_extension": ".py",
   "mimetype": "text/x-python",
   "name": "python",
   "nbconvert_exporter": "python",
   "pygments_lexer": "ipython3",
   "version": "3.6.5"
  },
  "toc": {
   "nav_menu": {},
   "number_sections": true,
   "sideBar": true,
   "skip_h1_title": false,
   "toc_cell": false,
   "toc_position": {
    "height": "533px",
    "left": "0px",
    "right": "1068px",
    "top": "111px",
    "width": "212px"
   },
   "toc_section_display": "block",
   "toc_window_display": true
  },
  "varInspector": {
   "cols": {
    "lenName": 16,
    "lenType": 16,
    "lenVar": 40
   },
   "kernels_config": {
    "python": {
     "delete_cmd_postfix": "",
     "delete_cmd_prefix": "del ",
     "library": "var_list.py",
     "varRefreshCmd": "print(var_dic_list())"
    },
    "r": {
     "delete_cmd_postfix": ") ",
     "delete_cmd_prefix": "rm(",
     "library": "var_list.r",
     "varRefreshCmd": "cat(var_dic_list()) "
    }
   },
   "types_to_exclude": [
    "module",
    "function",
    "builtin_function_or_method",
    "instance",
    "_Feature"
   ],
   "window_display": false
  }
 },
 "nbformat": 4,
 "nbformat_minor": 2
}
