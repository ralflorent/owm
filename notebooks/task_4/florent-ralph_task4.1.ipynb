{
 "cells": [
  {
   "cell_type": "markdown",
   "metadata": {},
   "source": [
    "# MEGI001-2101033 Introduction to Earth System Data\n",
    "\n",
    "## Task 4.1 - Loading Data\n",
    "\n",
    "Created on: Jan 22, 2019 by Ralph Florent <r.florent@jacobs-university.de>"
   ]
  },
  {
   "cell_type": "markdown",
   "metadata": {},
   "source": [
    "## T4.1 (time series subset)\n",
    "\n",
    "Please change the range of subset and produce a figure, to be included and commented in report (see task description)."
   ]
  },
  {
   "cell_type": "code",
   "execution_count": 6,
   "metadata": {},
   "outputs": [
    {
     "data": {
      "text/plain": [
       "['sample-sheet-1', 'sample-sheet-2']"
      ]
     },
     "execution_count": 6,
     "metadata": {},
     "output_type": "execute_result"
    }
   ],
   "source": [
    "# -*- coding: utf-8 -*-\n",
    "\"\"\"\n",
    "Created on Jan 23 2019\n",
    "\n",
    "@author: Angelo Rossi, Ralph Florent\n",
    "\"\"\"\n",
    "# this can be used for any data load and eventual plot, from composition, to spectral, time series (present example)\n",
    "import pandas as pd\n",
    "import numpy as np\n",
    "from matplotlib import pyplot as plt\n",
    "\n",
    "# define file path to load data from file\n",
    "path = '../assets/data/'\n",
    "filename = 'sample-time-series@task4.1.xlsx'\n",
    "\n",
    "# load and show data from excel source\n",
    "xl = pd.ExcelFile(path + filename)\n",
    "xl.sheet_names"
   ]
  },
  {
   "cell_type": "code",
   "execution_count": 7,
   "metadata": {},
   "outputs": [
    {
     "data": {
      "text/html": [
       "<div>\n",
       "<style scoped>\n",
       "    .dataframe tbody tr th:only-of-type {\n",
       "        vertical-align: middle;\n",
       "    }\n",
       "\n",
       "    .dataframe tbody tr th {\n",
       "        vertical-align: top;\n",
       "    }\n",
       "\n",
       "    .dataframe thead th {\n",
       "        text-align: right;\n",
       "    }\n",
       "</style>\n",
       "<table border=\"1\" class=\"dataframe\">\n",
       "  <thead>\n",
       "    <tr style=\"text-align: right;\">\n",
       "      <th></th>\n",
       "      <th>Date</th>\n",
       "      <th>B</th>\n",
       "      <th>C</th>\n",
       "      <th>D</th>\n",
       "      <th>E</th>\n",
       "      <th>F</th>\n",
       "    </tr>\n",
       "  </thead>\n",
       "  <tbody>\n",
       "    <tr>\n",
       "      <th>0</th>\n",
       "      <td>1970-01-01</td>\n",
       "      <td>0</td>\n",
       "      <td>0.00000</td>\n",
       "      <td>0.000000</td>\n",
       "      <td>0.307169</td>\n",
       "      <td>0.000000</td>\n",
       "    </tr>\n",
       "    <tr>\n",
       "      <th>1</th>\n",
       "      <td>1970-02-01</td>\n",
       "      <td>3</td>\n",
       "      <td>0.05236</td>\n",
       "      <td>0.052336</td>\n",
       "      <td>0.901953</td>\n",
       "      <td>0.047205</td>\n",
       "    </tr>\n",
       "    <tr>\n",
       "      <th>2</th>\n",
       "      <td>1970-03-01</td>\n",
       "      <td>6</td>\n",
       "      <td>0.10472</td>\n",
       "      <td>0.104528</td>\n",
       "      <td>0.042735</td>\n",
       "      <td>0.004467</td>\n",
       "    </tr>\n",
       "    <tr>\n",
       "      <th>3</th>\n",
       "      <td>1970-04-01</td>\n",
       "      <td>9</td>\n",
       "      <td>0.15708</td>\n",
       "      <td>0.156434</td>\n",
       "      <td>0.824471</td>\n",
       "      <td>0.128976</td>\n",
       "    </tr>\n",
       "    <tr>\n",
       "      <th>4</th>\n",
       "      <td>1970-05-01</td>\n",
       "      <td>12</td>\n",
       "      <td>0.20944</td>\n",
       "      <td>0.207912</td>\n",
       "      <td>0.549499</td>\n",
       "      <td>0.114247</td>\n",
       "    </tr>\n",
       "  </tbody>\n",
       "</table>\n",
       "</div>"
      ],
      "text/plain": [
       "        Date   B        C         D         E         F\n",
       "0 1970-01-01   0  0.00000  0.000000  0.307169  0.000000\n",
       "1 1970-02-01   3  0.05236  0.052336  0.901953  0.047205\n",
       "2 1970-03-01   6  0.10472  0.104528  0.042735  0.004467\n",
       "3 1970-04-01   9  0.15708  0.156434  0.824471  0.128976\n",
       "4 1970-05-01  12  0.20944  0.207912  0.549499  0.114247"
      ]
     },
     "execution_count": 7,
     "metadata": {},
     "output_type": "execute_result"
    }
   ],
   "source": [
    "# parse into computationally operable data\n",
    "df = xl.parse(\"sample-sheet-2\")\n",
    "df.head()"
   ]
  },
  {
   "cell_type": "code",
   "execution_count": 14,
   "metadata": {},
   "outputs": [
    {
     "data": {
      "image/png": "[encoded data removed]",
      "text/plain": [
       "<Figure size 432x288 with 1 Axes>"
      ]
     },
     "metadata": {},
     "output_type": "display_data"
    }
   ],
   "source": [
    "plt.plot(df.Date, df.B)\n",
    "plt.title('Preview of the Sample')\n",
    "plt.xlabel('Date (year)')\n",
    "plt.ylabel('Units')\n",
    "plt.show()"
   ]
  },
  {
   "cell_type": "code",
   "execution_count": 10,
   "metadata": {},
   "outputs": [
    {
     "data": {
      "text/html": [
       "<div>\n",
       "<style scoped>\n",
       "    .dataframe tbody tr th:only-of-type {\n",
       "        vertical-align: middle;\n",
       "    }\n",
       "\n",
       "    .dataframe tbody tr th {\n",
       "        vertical-align: top;\n",
       "    }\n",
       "\n",
       "    .dataframe thead th {\n",
       "        text-align: right;\n",
       "    }\n",
       "</style>\n",
       "<table border=\"1\" class=\"dataframe\">\n",
       "  <thead>\n",
       "    <tr style=\"text-align: right;\">\n",
       "      <th></th>\n",
       "      <th>Date</th>\n",
       "      <th>B</th>\n",
       "      <th>C</th>\n",
       "      <th>D</th>\n",
       "      <th>E</th>\n",
       "      <th>F</th>\n",
       "    </tr>\n",
       "  </thead>\n",
       "  <tbody>\n",
       "    <tr>\n",
       "      <th>367</th>\n",
       "      <td>2000-08-01</td>\n",
       "      <td>21</td>\n",
       "      <td>0.366519</td>\n",
       "      <td>0.358368</td>\n",
       "      <td>0.101193</td>\n",
       "      <td>0.036264</td>\n",
       "    </tr>\n",
       "    <tr>\n",
       "      <th>368</th>\n",
       "      <td>2000-09-01</td>\n",
       "      <td>24</td>\n",
       "      <td>0.418879</td>\n",
       "      <td>0.406737</td>\n",
       "      <td>0.623609</td>\n",
       "      <td>0.253645</td>\n",
       "    </tr>\n",
       "    <tr>\n",
       "      <th>369</th>\n",
       "      <td>2000-10-01</td>\n",
       "      <td>27</td>\n",
       "      <td>0.471239</td>\n",
       "      <td>0.453990</td>\n",
       "      <td>0.392489</td>\n",
       "      <td>0.178186</td>\n",
       "    </tr>\n",
       "    <tr>\n",
       "      <th>370</th>\n",
       "      <td>2000-11-01</td>\n",
       "      <td>30</td>\n",
       "      <td>0.523599</td>\n",
       "      <td>0.500000</td>\n",
       "      <td>0.286464</td>\n",
       "      <td>0.143232</td>\n",
       "    </tr>\n",
       "    <tr>\n",
       "      <th>371</th>\n",
       "      <td>2000-12-01</td>\n",
       "      <td>33</td>\n",
       "      <td>0.575959</td>\n",
       "      <td>0.544639</td>\n",
       "      <td>0.166533</td>\n",
       "      <td>0.090701</td>\n",
       "    </tr>\n",
       "  </tbody>\n",
       "</table>\n",
       "</div>"
      ],
      "text/plain": [
       "          Date   B         C         D         E         F\n",
       "367 2000-08-01  21  0.366519  0.358368  0.101193  0.036264\n",
       "368 2000-09-01  24  0.418879  0.406737  0.623609  0.253645\n",
       "369 2000-10-01  27  0.471239  0.453990  0.392489  0.178186\n",
       "370 2000-11-01  30  0.523599  0.500000  0.286464  0.143232\n",
       "371 2000-12-01  33  0.575959  0.544639  0.166533  0.090701"
      ]
     },
     "execution_count": 10,
     "metadata": {},
     "output_type": "execute_result"
    }
   ],
   "source": [
    "# query a subset of date greater than 2000\n",
    "subset_from2000 = df.query('Date > \"2000-07-1\"')\n",
    "\n",
    "# display a subset of the results\n",
    "subset_from2000.head()"
   ]
  },
  {
   "cell_type": "code",
   "execution_count": 11,
   "metadata": {},
   "outputs": [
    {
     "data": {
      "text/plain": [
       "(209, 6)"
      ]
     },
     "execution_count": 11,
     "metadata": {},
     "output_type": "execute_result"
    }
   ],
   "source": [
    "# Display the dimension of the subset\n",
    "subset_from2000.shape"
   ]
  },
  {
   "cell_type": "markdown",
   "metadata": {},
   "source": [
    "#### Comments\n",
    "Recalling that the data set is defined withing a range of time (date), it's important to query the subset between that defined range. For example, the data set starts from 1970. If we query a range `Date < 1970`, we risk to obtain a `NULL` (no rows) of data. Therefore, we make sure to query information greater than 2000. \n",
    "\n",
    "In the following section, we plot the results so that the values can be displayed and analyzed."
   ]
  },
  {
   "cell_type": "code",
   "execution_count": 15,
   "metadata": {},
   "outputs": [
    {
     "data": {
      "image/png": "[encoded data removed]",
      "text/plain": [
       "<Figure size 432x288 with 1 Axes>"
      ]
     },
     "metadata": {},
     "output_type": "display_data"
    }
   ],
   "source": [
    "# Plot the subset of date greater than 2000\n",
    "plt.plot(subset_from2000.Date, subset_from2000.B)\n",
    "plt.title('Subset of Date > 2000')\n",
    "plt.xlabel('Date (year)')\n",
    "plt.ylabel('Units')\n",
    "plt.show()"
   ]
  },
  {
   "cell_type": "code",
   "execution_count": null,
   "metadata": {},
   "outputs": [],
   "source": []
  }
 ],
 "metadata": {
  "kernelspec": {
   "display_name": "Python 3",
   "language": "python",
   "name": "python3"
  },
  "language_info": {
   "codemirror_mode": {
    "name": "ipython",
    "version": 3
   },
   "file_extension": ".py",
   "mimetype": "text/x-python",
   "name": "python",
   "nbconvert_exporter": "python",
   "pygments_lexer": "ipython3",
   "version": "3.6.5"
  },
  "toc": {
   "nav_menu": {},
   "number_sections": true,
   "sideBar": true,
   "skip_h1_title": false,
   "toc_cell": false,
   "toc_position": {
    "height": "533px",
    "left": "0px",
    "right": "1068px",
    "top": "111px",
    "width": "212px"
   },
   "toc_section_display": "block",
   "toc_window_display": true
  },
  "varInspector": {
   "cols": {
    "lenName": 16,
    "lenType": 16,
    "lenVar": 40
   },
   "kernels_config": {
    "python": {
     "delete_cmd_postfix": "",
     "delete_cmd_prefix": "del ",
     "library": "var_list.py",
     "varRefreshCmd": "print(var_dic_list())"
    },
    "r": {
     "delete_cmd_postfix": ") ",
     "delete_cmd_prefix": "rm(",
     "library": "var_list.r",
     "varRefreshCmd": "cat(var_dic_list()) "
    }
   },
   "types_to_exclude": [
    "module",
    "function",
    "builtin_function_or_method",
    "instance",
    "_Feature"
   ],
   "window_display": false
  }
 },
 "nbformat": 4,
 "nbformat_minor": 2
}
