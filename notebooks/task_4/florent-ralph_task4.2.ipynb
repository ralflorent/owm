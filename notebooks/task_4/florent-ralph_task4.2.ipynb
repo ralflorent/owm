{
 "cells": [
  {
   "cell_type": "markdown",
   "metadata": {},
   "source": [
    "# MEGI001-2101033 Introduction to Earth System Data\n",
    "\n",
    "## Task 4.2 - Loading Data\n",
    "\n",
    "Created on: Jan 22, 2019 by Ralph Florent <r.florent@jacobs-university.de>"
   ]
  },
  {
   "cell_type": "markdown",
   "metadata": {},
   "source": [
    "## T4.2 Time series in excel format as download\n",
    "\n",
    "* Please open the downloaded file with either MS Excel or Libreoffice\n",
    "* plot"
   ]
  },
  {
   "cell_type": "markdown",
   "metadata": {},
   "source": [
    "#### Excel File \n",
    "First, we obtain (download) the file.\n",
    "\n",
    "Using FTP access:\n",
    "* Link: ftp://ftp.ncdc.noaa.gov/pub/data/paleo/historical/\n",
    "* Path: /pub/data/paleo/historical/europe/\n",
    "* filename: dobrovolny2010temperature.xls\n",
    "\n",
    "Current file location: [../assets/data/dobrovolny2010temperature@task4.2.xls](../assets/data/dobrovolny2010temperature@task4.2.xls)\n",
    "\n",
    "Preview - Excel Sample\n",
    "\n",
    "<img src=\"../assets/img/excel-sample-view@task4.1.png\" width=900 align=\"center\" >"
   ]
  },
  {
   "cell_type": "code",
   "execution_count": 2,
   "metadata": {},
   "outputs": [
    {
     "data": {
      "text/plain": [
       "['Readme',\n",
       " 'Jan',\n",
       " 'Feb',\n",
       " 'Mar',\n",
       " 'Apr',\n",
       " 'May',\n",
       " 'Jun',\n",
       " 'Jul',\n",
       " 'Aug',\n",
       " 'Sep',\n",
       " 'Oct',\n",
       " 'Nov',\n",
       " 'Dec',\n",
       " 'DJF',\n",
       " 'MAM',\n",
       " 'JJA',\n",
       " 'SON',\n",
       " 'ANN']"
      ]
     },
     "execution_count": 2,
     "metadata": {},
     "output_type": "execute_result"
    }
   ],
   "source": [
    "# -*- coding: utf-8 -*-\n",
    "\"\"\"\n",
    "Created on Jan 23 2019\n",
    "\n",
    "@author: Angelo Rossi, Ralph Florent\n",
    "\"\"\"\n",
    "# this can be used for any data load and eventual plot, from composition, to spectral, time series (present example)\n",
    "import pandas as pd\n",
    "import numpy as np\n",
    "from matplotlib import pyplot as plt\n",
    "\n",
    "# define file path to load data from file\n",
    "path = '../assets/data/'\n",
    "filename = 'dobrovolny2010temperature@task4.2.xls'\n",
    "\n",
    "# load and show data from excel source\n",
    "xl = pd.ExcelFile(path + filename)\n",
    "xl.sheet_names"
   ]
  },
  {
   "cell_type": "code",
   "execution_count": 3,
   "metadata": {},
   "outputs": [
    {
     "data": {
      "text/html": [
       "<div>\n",
       "<style scoped>\n",
       "    .dataframe tbody tr th:only-of-type {\n",
       "        vertical-align: middle;\n",
       "    }\n",
       "\n",
       "    .dataframe tbody tr th {\n",
       "        vertical-align: top;\n",
       "    }\n",
       "\n",
       "    .dataframe thead th {\n",
       "        text-align: right;\n",
       "    }\n",
       "</style>\n",
       "<table border=\"1\" class=\"dataframe\">\n",
       "  <thead>\n",
       "    <tr style=\"text-align: right;\">\n",
       "      <th></th>\n",
       "      <th>Year AD</th>\n",
       "      <th>SPLICED</th>\n",
       "      <th>INSTR</th>\n",
       "      <th>REG</th>\n",
       "      <th>SE</th>\n",
       "      <th>REG + 2SE</th>\n",
       "      <th>REG - 2SE</th>\n",
       "      <th>SCALED</th>\n",
       "      <th>DE.ind</th>\n",
       "      <th>CH.ind</th>\n",
       "      <th>CZ.ind</th>\n",
       "    </tr>\n",
       "  </thead>\n",
       "  <tbody>\n",
       "    <tr>\n",
       "      <th>0</th>\n",
       "      <td>1500</td>\n",
       "      <td>-1.5147</td>\n",
       "      <td>NaN</td>\n",
       "      <td>-1.3556</td>\n",
       "      <td>0.4683</td>\n",
       "      <td>-0.4190</td>\n",
       "      <td>-2.2922</td>\n",
       "      <td>-1.5147</td>\n",
       "      <td>-9.0</td>\n",
       "      <td>NaN</td>\n",
       "      <td>NaN</td>\n",
       "    </tr>\n",
       "    <tr>\n",
       "      <th>1</th>\n",
       "      <td>1501</td>\n",
       "      <td>-0.5041</td>\n",
       "      <td>NaN</td>\n",
       "      <td>-0.3997</td>\n",
       "      <td>0.4688</td>\n",
       "      <td>0.5379</td>\n",
       "      <td>-1.3373</td>\n",
       "      <td>-0.5041</td>\n",
       "      <td>-2.0</td>\n",
       "      <td>NaN</td>\n",
       "      <td>NaN</td>\n",
       "    </tr>\n",
       "    <tr>\n",
       "      <th>2</th>\n",
       "      <td>1502</td>\n",
       "      <td>-0.6485</td>\n",
       "      <td>NaN</td>\n",
       "      <td>-0.5363</td>\n",
       "      <td>0.4694</td>\n",
       "      <td>0.4025</td>\n",
       "      <td>-1.4751</td>\n",
       "      <td>-0.6485</td>\n",
       "      <td>-3.0</td>\n",
       "      <td>NaN</td>\n",
       "      <td>NaN</td>\n",
       "    </tr>\n",
       "    <tr>\n",
       "      <th>3</th>\n",
       "      <td>1503</td>\n",
       "      <td>0.0624</td>\n",
       "      <td>NaN</td>\n",
       "      <td>0.1361</td>\n",
       "      <td>0.4699</td>\n",
       "      <td>1.0759</td>\n",
       "      <td>-0.8037</td>\n",
       "      <td>0.0624</td>\n",
       "      <td>3.0</td>\n",
       "      <td>NaN</td>\n",
       "      <td>0.0</td>\n",
       "    </tr>\n",
       "    <tr>\n",
       "      <th>4</th>\n",
       "      <td>1504</td>\n",
       "      <td>0.5257</td>\n",
       "      <td>NaN</td>\n",
       "      <td>0.5742</td>\n",
       "      <td>0.4704</td>\n",
       "      <td>1.5150</td>\n",
       "      <td>-0.3666</td>\n",
       "      <td>0.5257</td>\n",
       "      <td>7.0</td>\n",
       "      <td>NaN</td>\n",
       "      <td>2.0</td>\n",
       "    </tr>\n",
       "  </tbody>\n",
       "</table>\n",
       "</div>"
      ],
      "text/plain": [
       "   Year AD  SPLICED  INSTR     REG      SE  REG + 2SE  REG - 2SE  SCALED  \\\n",
       "0     1500  -1.5147    NaN -1.3556  0.4683    -0.4190    -2.2922 -1.5147   \n",
       "1     1501  -0.5041    NaN -0.3997  0.4688     0.5379    -1.3373 -0.5041   \n",
       "2     1502  -0.6485    NaN -0.5363  0.4694     0.4025    -1.4751 -0.6485   \n",
       "3     1503   0.0624    NaN  0.1361  0.4699     1.0759    -0.8037  0.0624   \n",
       "4     1504   0.5257    NaN  0.5742  0.4704     1.5150    -0.3666  0.5257   \n",
       "\n",
       "   DE.ind  CH.ind  CZ.ind  \n",
       "0    -9.0     NaN     NaN  \n",
       "1    -2.0     NaN     NaN  \n",
       "2    -3.0     NaN     NaN  \n",
       "3     3.0     NaN     0.0  \n",
       "4     7.0     NaN     2.0  "
      ]
     },
     "execution_count": 3,
     "metadata": {},
     "output_type": "execute_result"
    }
   ],
   "source": [
    "Jan = xl.parse(\"Jan\")\n",
    "Feb = xl.parse(\"Feb\")\n",
    "Mar = xl.parse(\"Mar\")\n",
    "Apr = xl.parse(\"Apr\")\n",
    "May = xl.parse(\"May\")\n",
    "Jun = xl.parse(\"Jun\")\n",
    "Jul = xl.parse(\"Jul\")\n",
    "Aug = xl.parse(\"Aug\")\n",
    "Sep = xl.parse(\"Sep\")\n",
    "Oct = xl.parse(\"Oct\")\n",
    "Nov = xl.parse(\"Nov\")\n",
    "Dec = xl.parse(\"Dec\")\n",
    "Annual =  xl.parse(\"ANN\")\n",
    "Annual.head()"
   ]
  },
  {
   "cell_type": "code",
   "execution_count": 4,
   "metadata": {},
   "outputs": [
    {
     "data": {
      "text/plain": [
       "<matplotlib.axes._subplots.AxesSubplot at 0x2559d50b198>"
      ]
     },
     "execution_count": 4,
     "metadata": {},
     "output_type": "execute_result"
    },
    {
     "data": {
      "image/png": "[encoded data removed]",
      "text/plain": [
       "<Figure size 432x288 with 1 Axes>"
      ]
     },
     "metadata": {},
     "output_type": "display_data"
    }
   ],
   "source": [
    "# Plotting all columns\n",
    "Annual.plot('Year AD', 'SPLICED')"
   ]
  },
  {
   "cell_type": "markdown",
   "metadata": {},
   "source": [
    "#### Comments\n",
    "The plot showed above represents the data loaded from excel file we download. Observe that there's some missing data (cell with `NAN`), which means that it requires some cleaning. But the purpose of the exercise is to normally plot, so we think of treating that question in a near future."
   ]
  }
 ],
 "metadata": {
  "kernelspec": {
   "display_name": "Python 3",
   "language": "python",
   "name": "python3"
  },
  "language_info": {
   "codemirror_mode": {
    "name": "ipython",
    "version": 3
   },
   "file_extension": ".py",
   "mimetype": "text/x-python",
   "name": "python",
   "nbconvert_exporter": "python",
   "pygments_lexer": "ipython3",
   "version": "3.6.5"
  },
  "toc": {
   "nav_menu": {},
   "number_sections": true,
   "sideBar": true,
   "skip_h1_title": false,
   "toc_cell": false,
   "toc_position": {
    "height": "533px",
    "left": "0px",
    "right": "1068px",
    "top": "111px",
    "width": "212px"
   },
   "toc_section_display": "block",
   "toc_window_display": true
  },
  "varInspector": {
   "cols": {
    "lenName": 16,
    "lenType": 16,
    "lenVar": 40
   },
   "kernels_config": {
    "python": {
     "delete_cmd_postfix": "",
     "delete_cmd_prefix": "del ",
     "library": "var_list.py",
     "varRefreshCmd": "print(var_dic_list())"
    },
    "r": {
     "delete_cmd_postfix": ") ",
     "delete_cmd_prefix": "rm(",
     "library": "var_list.r",
     "varRefreshCmd": "cat(var_dic_list()) "
    }
   },
   "types_to_exclude": [
    "module",
    "function",
    "builtin_function_or_method",
    "instance",
    "_Feature"
   ],
   "window_display": false
  }
 },
 "nbformat": 4,
 "nbformat_minor": 2
}
