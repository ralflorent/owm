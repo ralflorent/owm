{
 "cells": [
  {
   "cell_type": "markdown",
   "metadata": {},
   "source": [
    "# MEGI001-2101033 Introduction to Earth System Data\n",
    "\n",
    "## Task 3.1 - FTP/HTTP Access\n",
    "\n",
    "Created on: Jan 22, 2019 by Ralph Florent <r.florent@jacobs-university.de>"
   ]
  },
  {
   "cell_type": "markdown",
   "metadata": {},
   "source": [
    "## T3.1\n",
    "\n",
    "Please try download at least 3 files (data products) of 3 different formats from any of the archives above (no programmatic access, download-only ones). Please track the provenance of the file (URL, FTP, basic metadata you can grab)."
   ]
  },
  {
   "cell_type": "markdown",
   "metadata": {},
   "source": [
    "#### File 1. Format (.txt)\n",
    "\n",
    "Using FTP access:\n",
    "* Link: ftp://ftp.ncdc.noaa.gov/pub/data/paleo/historical/\n",
    "* Path: /pub/data/paleo/historical/caribbean/\n",
    "* filename: trouet2016ship.txt\n",
    "\n",
    "See content [here](../assets/data/data-file.1@task3.1.txt)"
   ]
  },
  {
   "cell_type": "markdown",
   "metadata": {},
   "source": [
    "#### File 2. Format (.hdf)\n",
    "\n",
    "Using HTTP access:\n",
    "* Link: https://lpdaac.usgs.gov/dataset_discovery/modis/modis_products_table/mod13q1_v006\n",
    "* Path: /\n",
    "* filename: MOD09A1.A2000049.h13v11.006.2015136143504.hdf\n",
    "\n",
    "See content  [here](../assets/data/data-file.2@task3.1.hdf)"
   ]
  },
  {
   "cell_type": "markdown",
   "metadata": {},
   "source": [
    "#### File 3. Format (.tsv)\n",
    "\n",
    "Using USB drive:\n",
    "* Link: (copy from Professor A. Rossi's Drive)\n",
    "* Path: [usb]/data_samples/pangea.de-samles/\n",
    "* filename: Ikari_2011.tab\n",
    "\n",
    "See content [here](../assets/data/data-file.3@task3.1.tsv)"
   ]
  }
 ],
 "metadata": {
  "kernelspec": {
   "display_name": "Python 3",
   "language": "python",
   "name": "python3"
  },
  "language_info": {
   "codemirror_mode": {
    "name": "ipython",
    "version": 3
   },
   "file_extension": ".py",
   "mimetype": "text/x-python",
   "name": "python",
   "nbconvert_exporter": "python",
   "pygments_lexer": "ipython3",
   "version": "3.6.5"
  },
  "toc": {
   "nav_menu": {},
   "number_sections": true,
   "sideBar": true,
   "skip_h1_title": false,
   "toc_cell": false,
   "toc_position": {
    "height": "533px",
    "left": "0px",
    "right": "1068px",
    "top": "111px",
    "width": "212px"
   },
   "toc_section_display": "block",
   "toc_window_display": true
  },
  "varInspector": {
   "cols": {
    "lenName": 16,
    "lenType": 16,
    "lenVar": 40
   },
   "kernels_config": {
    "python": {
     "delete_cmd_postfix": "",
     "delete_cmd_prefix": "del ",
     "library": "var_list.py",
     "varRefreshCmd": "print(var_dic_list())"
    },
    "r": {
     "delete_cmd_postfix": ") ",
     "delete_cmd_prefix": "rm(",
     "library": "var_list.r",
     "varRefreshCmd": "cat(var_dic_list()) "
    }
   },
   "types_to_exclude": [
    "module",
    "function",
    "builtin_function_or_method",
    "instance",
    "_Feature"
   ],
   "window_display": false
  }
 },
 "nbformat": 4,
 "nbformat_minor": 2
}
