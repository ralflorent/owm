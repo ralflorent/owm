{
 "cells": [
  {
   "cell_type": "markdown",
   "metadata": {},
   "source": [
    "# MEGI001-2101033 Introduction to Earth System Data\n",
    "\n",
    "## Task 1.2 - Python Basics\n",
    "\n",
    "Created on: Jan 21, 2019 by Ralph Florent <r.florent@jacobs-university.de>"
   ]
  },
  {
   "cell_type": "markdown",
   "metadata": {},
   "source": [
    "## T1.2\n",
    "\n",
    "Plot these 2 lists against each other\n",
    "\n",
    "```\n",
    "[1, 4, 14, 16, 10, 132, 7, 4, 6.4, 6.3, 9.3, 23]\n",
    "[9, 11, 3.4, 3.4656, 6, 0.5, 8, 3, 4, 4.4, 6.3, 9.3]\n",
    "```\n",
    "Test multiple way to plot for inspiration:\n",
    "- Use blue thick dots as symbols for the markers.\n",
    "- Use a red line connecting points                                                        "
   ]
  },
  {
   "cell_type": "code",
   "execution_count": 2,
   "metadata": {},
   "outputs": [
    {
     "data": {
      "image/png": "[encoded data removed]",
      "text/plain": [
       "<Figure size 432x288 with 1 Axes>"
      ]
     },
     "metadata": {},
     "output_type": "display_data"
    }
   ],
   "source": [
    "# Importing relevant libraries\n",
    "\n",
    "%matplotlib inline\n",
    "import matplotlib.pyplot as plt\n",
    "import numpy as np\n",
    "\n",
    "# Plotting a graph from the two given lists of T1.2\n",
    "\n",
    "x = np.array([1, 4, 14, 16, 10, 132, 7, 4, 6.4, 6.3, 9.3, 23])\n",
    "y = np.array([9, 11, 3.4, 3.4656, 6, 0.5, 8, 3, 4, 4.4, 6.3, 9.3])\n",
    "\n",
    "# figure\n",
    "fig = plt.figure()\n",
    "\n",
    "# subplot\n",
    "ax1 = fig.add_subplot(111)\n",
    "\n",
    "# plot line\n",
    "ax1.plot(x, y, 'r', color='r')\n",
    "\n",
    "# plot markers on top\n",
    "ax1.plot(x, y, marker='o', color='b', ls='')\n",
    "\n",
    "plt.xlabel('X label')\n",
    "plt.ylabel('Y label')\n",
    "\n",
    "# show plot inline\n",
    "plt.show()"
   ]
  }
 ],
 "metadata": {
  "kernelspec": {
   "display_name": "Python 3",
   "language": "python",
   "name": "python3"
  },
  "language_info": {
   "codemirror_mode": {
    "name": "ipython",
    "version": 3
   },
   "file_extension": ".py",
   "mimetype": "text/x-python",
   "name": "python",
   "nbconvert_exporter": "python",
   "pygments_lexer": "ipython3",
   "version": "3.6.5"
  },
  "toc": {
   "nav_menu": {},
   "number_sections": true,
   "sideBar": true,
   "skip_h1_title": false,
   "toc_cell": false,
   "toc_position": {
    "height": "533px",
    "left": "0px",
    "right": "1068px",
    "top": "111px",
    "width": "212px"
   },
   "toc_section_display": "block",
   "toc_window_display": true
  },
  "varInspector": {
   "cols": {
    "lenName": 16,
    "lenType": 16,
    "lenVar": 40
   },
   "kernels_config": {
    "python": {
     "delete_cmd_postfix": "",
     "delete_cmd_prefix": "del ",
     "library": "var_list.py",
     "varRefreshCmd": "print(var_dic_list())"
    },
    "r": {
     "delete_cmd_postfix": ") ",
     "delete_cmd_prefix": "rm(",
     "library": "var_list.r",
     "varRefreshCmd": "cat(var_dic_list()) "
    }
   },
   "types_to_exclude": [
    "module",
    "function",
    "builtin_function_or_method",
    "instance",
    "_Feature"
   ],
   "window_display": false
  }
 },
 "nbformat": 4,
 "nbformat_minor": 2
}
