{
 "cells": [
  {
   "cell_type": "markdown",
   "metadata": {},
   "source": [
    "# MEGI001-2101033 Introduction to Earth System Data\n",
    "\n",
    "## Task 5.1 - Data Handling Analysis\n",
    "\n",
    "Created on: Jan 23, 2019 by Ralph Florent <r.florent@jacobs-university.de>"
   ]
  },
  {
   "cell_type": "markdown",
   "metadata": {},
   "source": [
    "## T 5.1 \n",
    "Please use the dataset in ```../data_samples/hdf/NEONDSTowerTemperatureData.hdf5``` and load data from the tower **STER** under **Domain_10**.\n",
    "\n",
    "You can re-use code from  [notebook 04](CH05-210103_04-data-load.ipynb). You can also visually inspect data with PanoPly."
   ]
  },
  {
   "cell_type": "code",
   "execution_count": 3,
   "metadata": {},
   "outputs": [
    {
     "data": {
      "text/plain": [
       "['Domain_03', 'Domain_10']"
      ]
     },
     "execution_count": 3,
     "metadata": {},
     "output_type": "execute_result"
    }
   ],
   "source": [
    "# -*- coding: utf-8 -*-\n",
    "\"\"\"\n",
    "Created on Jan 23 2019\n",
    "\n",
    "@author: Angelo Rossi, Ralph Florent\n",
    "\"\"\"\n",
    "# Import relevant libraries\n",
    "import pandas as pd\n",
    "import numpy as np\n",
    "from matplotlib import pyplot as plt\n",
    "import h5py\n",
    "\n",
    "# define file path to load data from file\n",
    "path = '../assets/data/hdf/'\n",
    "filename = 'data-file@task4.3.hdf5'\n",
    "\n",
    "# load and show data from hdf5 source\n",
    "filepath = path + filename\n",
    "file = h5py.File(filepath, 'r')\n",
    "list(file.keys())"
   ]
  },
  {
   "cell_type": "code",
   "execution_count": 4,
   "metadata": {},
   "outputs": [
    {
     "data": {
      "text/plain": [
       "['STER']"
      ]
     },
     "execution_count": 4,
     "metadata": {},
     "output_type": "execute_result"
    }
   ],
   "source": [
    "# \n",
    "domain_10 = file['Domain_10']\n",
    "list(domain_10)"
   ]
  },
  {
   "cell_type": "code",
   "execution_count": 5,
   "metadata": {},
   "outputs": [
    {
     "data": {
      "text/plain": [
       "['min_1', 'min_30']"
      ]
     },
     "execution_count": 5,
     "metadata": {},
     "output_type": "execute_result"
    }
   ],
   "source": [
    "ster_data = domain_10['STER']\n",
    "list(ster_data)"
   ]
  },
  {
   "cell_type": "code",
   "execution_count": 12,
   "metadata": {},
   "outputs": [
    {
     "data": {
      "text/plain": [
       "['date',\n",
       " 'numPts',\n",
       " 'mean',\n",
       " 'min',\n",
       " 'max',\n",
       " 'variance',\n",
       " 'stdErr',\n",
       " 'uncertainty',\n",
       " 'Product ID',\n",
       " 'Product Name']"
      ]
     },
     "execution_count": 12,
     "metadata": {},
     "output_type": "execute_result"
    }
   ],
   "source": [
    "dataset = ster_data['min_1']['boom_1']['temperature']\n",
    "list(dataset.attrs)"
   ]
  },
  {
   "cell_type": "code",
   "execution_count": 14,
   "metadata": {},
   "outputs": [
    {
     "name": "stdout",
     "output_type": "stream",
     "text": [
      "[datetime.datetime(2014, 4, 1, 0, 0), datetime.datetime(2014, 4, 1, 0, 1), datetime.datetime(2014, 4, 1, 0, 2), datetime.datetime(2014, 4, 1, 0, 3), datetime.datetime(2014, 4, 1, 0, 4)]\n"
     ]
    }
   ],
   "source": [
    "# Distribute the data between date and mean (from columns)\n",
    "from datetime import datetime\n",
    "\n",
    "sample_date_mean = dataset['date', 'mean']\n",
    "dates = [x[0] for x in sample_date_mean]\n",
    "temps = [y[1] for y in sample_date_mean]\n",
    "datesStr=[\"\".join([chr(y) for y in x[:-2]]) for x in dates]\n",
    "times = [datetime.strptime(d, '%Y-%m-%d %H:%M:%S') for d in datesStr]\n",
    "print(times[:5])"
   ]
  },
  {
   "cell_type": "code",
   "execution_count": 15,
   "metadata": {},
   "outputs": [
    {
     "data": {
      "image/png": "[encoded data removed]",
      "text/plain": [
       "<Figure size 432x288 with 1 Axes>"
      ]
     },
     "metadata": {},
     "output_type": "display_data"
    }
   ],
   "source": [
    "plt.plot(times, temps)\n",
    "plt.title('Preview of the Sample Date-Temperature')\n",
    "plt.xlabel('Times ')\n",
    "plt.ylabel('Temperature')\n",
    "plt.show()"
   ]
  },
  {
   "cell_type": "markdown",
   "metadata": {},
   "source": [
    "#### Comments\n",
    "Note that in this exercise, the data is structured in a way that we have to list the attributes and regroup them accordingly as a sample dataset in order to plot them. Of course, we can automate the process so that the lookup can be done programatically."
   ]
  }
 ],
 "metadata": {
  "kernelspec": {
   "display_name": "Python 3",
   "language": "python",
   "name": "python3"
  },
  "language_info": {
   "codemirror_mode": {
    "name": "ipython",
    "version": 3
   },
   "file_extension": ".py",
   "mimetype": "text/x-python",
   "name": "python",
   "nbconvert_exporter": "python",
   "pygments_lexer": "ipython3",
   "version": "3.6.5"
  },
  "toc": {
   "nav_menu": {},
   "number_sections": true,
   "sideBar": true,
   "skip_h1_title": false,
   "toc_cell": false,
   "toc_position": {
    "height": "533px",
    "left": "0px",
    "right": "1068px",
    "top": "111px",
    "width": "212px"
   },
   "toc_section_display": "block",
   "toc_window_display": true
  },
  "varInspector": {
   "cols": {
    "lenName": 16,
    "lenType": 16,
    "lenVar": 40
   },
   "kernels_config": {
    "python": {
     "delete_cmd_postfix": "",
     "delete_cmd_prefix": "del ",
     "library": "var_list.py",
     "varRefreshCmd": "print(var_dic_list())"
    },
    "r": {
     "delete_cmd_postfix": ") ",
     "delete_cmd_prefix": "rm(",
     "library": "var_list.r",
     "varRefreshCmd": "cat(var_dic_list()) "
    }
   },
   "types_to_exclude": [
    "module",
    "function",
    "builtin_function_or_method",
    "instance",
    "_Feature"
   ],
   "window_display": false
  }
 },
 "nbformat": 4,
 "nbformat_minor": 2
}
